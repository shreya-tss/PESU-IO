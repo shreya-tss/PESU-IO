{
  "cells": [
    {
      "cell_type": "markdown",
      "metadata": {
        "id": "hJXo54LaqCVh"
      },
      "source": [
        "## RNN and LSTM"
      ]
    },
    {
      "cell_type": "markdown",
      "metadata": {
        "id": "avZLMid3qCLF"
      },
      "source": [
        "## Importing Modules"
      ]
    },
    {
      "cell_type": "code",
      "execution_count": null,
      "metadata": {
        "id": "RgwUXZAwnA0j"
      },
      "outputs": [],
      "source": [
        "import numpy as np\n",
        "import tensorflow as tf\n",
        "from tensorflow.keras.datasets import imdb\n",
        "from tensorflow.keras.preprocessing.sequence import pad_sequences\n",
        "from tensorflow.keras.models import Sequential\n",
        "from tensorflow.keras.layers import Embedding, LSTM, Dense\n"
      ]
    },
    {
      "cell_type": "markdown",
      "metadata": {
        "id": "tPEOWX_sp7Yx"
      },
      "source": [
        "## Load Dataset"
      ]
    },
    {
      "cell_type": "code",
      "execution_count": null,
      "metadata": {
        "id": "r-LsvzaQpQ3V"
      },
      "outputs": [],
      "source": [
        "vocab_size = 10000\n",
        "max_len = 200\n",
        "(x_train, y_train), (x_test, y_test) = imdb.load_data(num_words=vocab_size)\n"
      ]
    },
    {
      "cell_type": "code",
      "execution_count": null,
      "metadata": {
        "id": "EkuBNyY66VJi"
      },
      "outputs": [],
      "source": [
        "# Get the word index mapping from the dataset\n",
        "word_index = imdb.get_word_index()\n",
        "\n",
        "# Reverse the word index mapping to get words from indices\n",
        "reverse_word_index = {index: word for word, index in word_index.items()}\n",
        "\n",
        "print(\"Review\", 0, \":\")\n",
        "decoded_review = ' '.join(reverse_word_index.get(index - 3, '?') for index in x_train[0])\n",
        "print(decoded_review)\n",
        "print(\"Label:\", y_train[0])  # Print the corresponding label (0 for negative, 1 for positive)\n",
        "print()"
      ]
    },
    {
      "cell_type": "markdown",
      "metadata": {
        "id": "gLsCQ9Q2p2MN"
      },
      "source": [
        "## Padding"
      ]
    },
    {
      "cell_type": "code",
      "execution_count": null,
      "metadata": {
        "id": "F-sNus1SpQz8"
      },
      "outputs": [],
      "source": [
        "# Pad sequences to make them of equal length\n",
        "x_train = pad_sequences(x_train, maxlen=max_len)\n",
        "x_test = pad_sequences(x_test, maxlen=max_len)\n"
      ]
    },
    {
      "cell_type": "markdown",
      "metadata": {
        "id": "_RQ8IyBspwxs"
      },
      "source": [
        "## RNN Model"
      ]
    },
    {
      "cell_type": "code",
      "execution_count": null,
      "metadata": {
        "id": "wjou5DC-pQxP"
      },
      "outputs": [],
      "source": [
        "from tensorflow.keras.layers import SimpleRNN\n",
        "\n",
        "# Define the RNN model without LSTM\n",
        "model_rnn = Sequential([\n",
        "    Embedding(input_dim=vocab_size, output_dim=128, input_length=max_len),\n",
        "    SimpleRNN(units=64),\n",
        "    Dense(units=1, activation='sigmoid')\n",
        "])\n"
      ]
    },
    {
      "cell_type": "markdown",
      "metadata": {
        "id": "yDinKlmXpmSI"
      },
      "source": [
        "## Compile the Model"
      ]
    },
    {
      "cell_type": "code",
      "execution_count": null,
      "metadata": {
        "id": "nNEA4eRhpQuq"
      },
      "outputs": [],
      "source": [
        "model_rnn.compile(loss='binary_crossentropy', optimizer='adam', metrics=['accuracy'])"
      ]
    },
    {
      "cell_type": "markdown",
      "metadata": {
        "id": "B_15m4nDppTi"
      },
      "source": [
        "## Train the Model"
      ]
    },
    {
      "cell_type": "code",
      "execution_count": null,
      "metadata": {
        "id": "sw4z-ewRpQsF"
      },
      "outputs": [],
      "source": [
        "model_rnn.fit(x_train, y_train, batch_size=128, epochs=3, validation_data=(x_test, y_test))"
      ]
    },
    {
      "cell_type": "markdown",
      "metadata": {
        "id": "-sP0zWcZpsj3"
      },
      "source": [
        "## Model Evaluation"
      ]
    },
    {
      "cell_type": "code",
      "execution_count": null,
      "metadata": {
        "id": "XxKUVdiGpQpU"
      },
      "outputs": [],
      "source": [
        "loss, accuracy = model_rnn.evaluate(x_test, y_test)\n",
        "print(\"Test Accuracy:\", accuracy)"
      ]
    },
    {
      "cell_type": "markdown",
      "metadata": {
        "id": "dfveo8bRqnr0"
      },
      "source": [
        "## LSTM Model"
      ]
    },
    {
      "cell_type": "code",
      "execution_count": null,
      "metadata": {
        "id": "8_6L0bSvqgSU"
      },
      "outputs": [],
      "source": [
        "# Define the LSTM model\n",
        "model = Sequential([\n",
        "    Embedding(input_dim=vocab_size, output_dim=128, input_length=max_len),\n",
        "    LSTM(units=64),\n",
        "    Dense(units=1, activation='sigmoid')\n",
        "])\n"
      ]
    },
    {
      "cell_type": "markdown",
      "metadata": {
        "id": "cPTidTmoqsaB"
      },
      "source": [
        "## Compile The Model"
      ]
    },
    {
      "cell_type": "code",
      "execution_count": null,
      "metadata": {
        "id": "qCLrQledqhNJ"
      },
      "outputs": [],
      "source": [
        "model.compile(loss='binary_crossentropy', optimizer='adam', metrics=['accuracy'])"
      ]
    },
    {
      "cell_type": "markdown",
      "metadata": {
        "id": "rX8xxV0SqvO5"
      },
      "source": [
        "## Train the Model"
      ]
    },
    {
      "cell_type": "code",
      "execution_count": null,
      "metadata": {
        "id": "27NKIroFqhCu"
      },
      "outputs": [],
      "source": [
        "model.fit(x_train, y_train, batch_size=128, epochs=3, validation_data=(x_test, y_test))"
      ]
    },
    {
      "cell_type": "markdown",
      "metadata": {
        "id": "hpuHDJ9hqyIJ"
      },
      "source": [
        "## Model Evaluation"
      ]
    },
    {
      "cell_type": "code",
      "execution_count": null,
      "metadata": {
        "id": "mLKhDTyJqk0j"
      },
      "outputs": [],
      "source": [
        "loss, accuracy = model.evaluate(x_test, y_test)\n",
        "print(\"Test Accuracy:\", accuracy)"
      ]
    }
  ],
  "metadata": {
    "colab": {
      "private_outputs": true,
      "provenance": []
    },
    "kernelspec": {
      "display_name": "Python 3",
      "name": "python3"
    },
    "language_info": {
      "name": "python"
    }
  },
  "nbformat": 4,
  "nbformat_minor": 0
}
