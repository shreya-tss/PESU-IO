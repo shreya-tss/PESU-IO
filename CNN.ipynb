{
  "cells": [
    {
      "cell_type": "code",
      "execution_count": null,
      "metadata": {
        "id": "hxuAtmBWqhwE"
      },
      "outputs": [],
      "source": [
        "from tensorflow.keras.models import Sequential\n",
        "from tensorflow.keras.layers import Dense, Flatten,Conv2D,MaxPooling2D\n",
        "from tensorflow.keras.datasets import mnist"
      ]
    },
    {
      "cell_type": "markdown",
      "metadata": {
        "id": "OIa2Ph-GEv92"
      },
      "source": [
        "# Load datasset"
      ]
    },
    {
      "cell_type": "code",
      "execution_count": null,
      "metadata": {
        "colab": {
          "base_uri": "https://localhost:8080/"
        },
        "id": "WgH_hyjCwWnj",
        "outputId": "7080a193-359c-4779-ca85-4f9063379430"
      },
      "outputs": [
        {
          "name": "stdout",
          "output_type": "stream",
          "text": [
            "Downloading data from https://storage.googleapis.com/tensorflow/tf-keras-datasets/mnist.npz\n",
            "11490434/11490434 [==============================] - 0s 0us/step\n"
          ]
        }
      ],
      "source": [
        "(x_train,y_train),(x_test,y_test)=mnist.load_data()"
      ]
    },
    {
      "cell_type": "code",
      "execution_count": null,
      "metadata": {
        "colab": {
          "base_uri": "https://localhost:8080/",
          "height": 807
        },
        "id": "_sEmuCDew3tF",
        "outputId": "64f40ead-3e95-49a1-9029-8c1855075147"
      },
      "outputs": [
        {
          "data": {
            "image/png": "[encoded data removed]",
            "text/plain": [
              "<Figure size 1000x1000 with 25 Axes>"
            ]
          },
          "metadata": {},
          "output_type": "display_data"
        }
      ],
      "source": [
        "import matplotlib.pyplot as plt\n",
        "plt.figure(figsize=(10,10))\n",
        "for i in range(25):\n",
        "  plt.subplot(5,5,i+1)\n",
        "  plt.imshow(x_train[i],cmap='gray')\n",
        "  plt.axis('off')\n",
        "plt.show()\n"
      ]
    },
    {
      "cell_type": "markdown",
      "metadata": {
        "id": "Gc4OZBslE3r9"
      },
      "source": [
        "# Pre-process data"
      ]
    },
    {
      "cell_type": "code",
      "execution_count": null,
      "metadata": {
        "id": "4jgYQYAYxdB3"
      },
      "outputs": [],
      "source": [
        "img_rows,img_cols=28,28\n",
        "x_train=x_train.reshape(x_train.shape[0],img_rows,img_cols,1)\n",
        "x_test=x_test.reshape(x_test.shape[0],img_rows,img_cols,1)\n",
        "x_test=x_test.astype('float32')/255\n",
        "x_train=x_train.astype('float32')/255"
      ]
    },
    {
      "cell_type": "markdown",
      "metadata": {
        "id": "TWgEYox2E6qv"
      },
      "source": [
        "# One-Hot Encode"
      ]
    },
    {
      "cell_type": "code",
      "execution_count": null,
      "metadata": {
        "id": "kKZydWshwEBa"
      },
      "outputs": [],
      "source": [
        "from tensorflow.keras.utils import to_categorical\n",
        "y_train=to_categorical(y_train)\n",
        "y_test=to_categorical(y_test)"
      ]
    },
    {
      "cell_type": "markdown",
      "metadata": {
        "id": "yFfvlcjiE-1B"
      },
      "source": [
        "# CNN model"
      ]
    },
    {
      "cell_type": "code",
      "execution_count": null,
      "metadata": {
        "id": "0WLbVVRnwc3q"
      },
      "outputs": [],
      "source": [
        "model=Sequential()\n",
        "model.add(Conv2D(32, kernel_size=(3, 3), activation='relu', input_shape=(img_rows, img_cols, 1)))\n",
        "model.add(MaxPooling2D(pool_size=(2,2)))\n",
        "model.add(Conv2D(64, kernel_size=(3, 3), activation='relu'))\n",
        "model.add(MaxPooling2D(pool_size=(2,2)))\n",
        "model.add(Flatten())\n",
        "model.add(Dense(128,activation='relu'))\n",
        "model.add(Dense(10,activation='softmax'))"
      ]
    },
    {
      "cell_type": "markdown",
      "metadata": {
        "id": "IRACLsqvFBOT"
      },
      "source": [
        "# Compile the model"
      ]
    },
    {
      "cell_type": "code",
      "execution_count": null,
      "metadata": {
        "id": "FzdU6kTkytf9"
      },
      "outputs": [],
      "source": [
        "model.compile(loss='categorical_crossentropy', optimizer='adam',metrics=['accuracy'])"
      ]
    },
    {
      "cell_type": "markdown",
      "metadata": {
        "id": "M8ZOOmr_FFt3"
      },
      "source": [
        "# Train the model"
      ]
    },
    {
      "cell_type": "code",
      "execution_count": null,
      "metadata": {
        "colab": {
          "base_uri": "https://localhost:8080/"
        },
        "id": "Xoc4uVsYy7jp",
        "outputId": "58928039-1b6f-4a10-c597-ade3a41a5275"
      },
      "outputs": [
        {
          "name": "stdout",
          "output_type": "stream",
          "text": [
            "Epoch 1/10\n",
            "469/469 [==============================] - 46s 97ms/step - loss: 2.3016 - accuracy: 0.1104 - val_loss: 2.3143 - val_accuracy: 0.1135\n",
            "Epoch 2/10\n",
            "469/469 [==============================] - 57s 122ms/step - loss: 2.3013 - accuracy: 0.1124 - val_loss: 2.3102 - val_accuracy: 0.1135\n",
            "Epoch 3/10\n",
            "469/469 [==============================] - 55s 118ms/step - loss: 2.3013 - accuracy: 0.1124 - val_loss: 2.3109 - val_accuracy: 0.1135\n",
            "Epoch 4/10\n",
            "469/469 [==============================] - 44s 94ms/step - loss: 2.3013 - accuracy: 0.1124 - val_loss: 2.3115 - val_accuracy: 0.1135\n",
            "Epoch 5/10\n",
            "469/469 [==============================] - 47s 99ms/step - loss: 2.3013 - accuracy: 0.1124 - val_loss: 2.3115 - val_accuracy: 0.1135\n",
            "Epoch 6/10\n",
            "469/469 [==============================] - 43s 92ms/step - loss: 2.3013 - accuracy: 0.1124 - val_loss: 2.3115 - val_accuracy: 0.1135\n",
            "Epoch 7/10\n",
            "469/469 [==============================] - 44s 94ms/step - loss: 2.3013 - accuracy: 0.1124 - val_loss: 2.3107 - val_accuracy: 0.1135\n",
            "Epoch 8/10\n",
            "469/469 [==============================] - 43s 93ms/step - loss: 2.3013 - accuracy: 0.1124 - val_loss: 2.3117 - val_accuracy: 0.1135\n",
            "Epoch 9/10\n",
            "469/469 [==============================] - 44s 94ms/step - loss: 2.3013 - accuracy: 0.1124 - val_loss: 2.3116 - val_accuracy: 0.1135\n",
            "Epoch 10/10\n",
            "469/469 [==============================] - 45s 95ms/step - loss: 2.3013 - accuracy: 0.1124 - val_loss: 2.3109 - val_accuracy: 0.1135\n"
          ]
        },
        {
          "data": {
            "text/plain": [
              "<keras.src.callbacks.History at 0x7b7c25c55b10>"
            ]
          },
          "execution_count": 20,
          "metadata": {},
          "output_type": "execute_result"
        }
      ],
      "source": [
        "model.fit(x_train,y_train,epochs=10,batch_size=128,validation_data=(x_test,y_test))"
      ]
    },
    {
      "cell_type": "markdown",
      "metadata": {
        "id": "E-rOF42FFJ-h"
      },
      "source": [
        "# Model Metrics"
      ]
    },
    {
      "cell_type": "code",
      "execution_count": null,
      "metadata": {
        "colab": {
          "base_uri": "https://localhost:8080/"
        },
        "id": "dSojZBNOzkps",
        "outputId": "5329a6a3-bedf-42e5-efe3-70050c61719a"
      },
      "outputs": [
        {
          "name": "stdout",
          "output_type": "stream",
          "text": [
            "Test loss: 2.3108935356140137\n",
            "Test accuracy 0.11349999904632568\n"
          ]
        }
      ],
      "source": [
        "score=model.evaluate(x_test,y_test,verbose=0)\n",
        "print('Test loss:',score[0])\n",
        "print('Test accuracy',score[1])"
      ]
    }
  ],
  "metadata": {
    "colab": {
      "provenance": []
    },
    "kernelspec": {
      "display_name": "Python 3",
      "name": "python3"
    },
    "language_info": {
      "name": "python"
    }
  },
  "nbformat": 4,
  "nbformat_minor": 0
}
